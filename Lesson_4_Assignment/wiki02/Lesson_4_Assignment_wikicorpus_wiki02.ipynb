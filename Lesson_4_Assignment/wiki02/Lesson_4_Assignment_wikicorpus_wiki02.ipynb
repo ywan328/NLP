{
 "cells": [
  {
   "cell_type": "code",
   "execution_count": 1,
   "metadata": {},
   "outputs": [],
   "source": [
    "from hanziconv import HanziConv\n",
    "import re\n",
    "import sys"
   ]
  },
  {
   "cell_type": "code",
   "execution_count": 2,
   "metadata": {},
   "outputs": [
    {
     "name": "stdout",
     "output_type": "stream",
     "text": [
      "0\n"
     ]
    }
   ],
   "source": [
    "input_file = 'C:\\\\Users\\\\ywan3\\\\Desktop\\\\NLP\\\\Data\\\\text\\\\01\\\\wiki_02'\n",
    "p1 = re.compile('（）')\n",
    "p2 = re.compile('《》')\n",
    "p3 = re.compile('「')\n",
    "p4 = re.compile('」')\n",
    "p5 = re.compile('<doc (.*)>')\n",
    "p6 = re.compile('</doc>')\n",
    "outfile = open(input_file + 'simple', 'w')\n",
    "with open(input_file, 'r') as f:\n",
    "    lines = f.readlines()\n",
    "    for i, line in enumerate(lines):\n",
    "        if i % 10000 == 0:\n",
    "            print(i)\n",
    "        line = p1.sub('', line)\n",
    "        line = p2.sub('', line)\n",
    "        line = p3.sub('', line)\n",
    "        line = p4.sub('', line)\n",
    "        line = p5.sub('', line)\n",
    "        line = p6.sub('', line)\n",
    "        line = HanziConv.toSimplified(line)\n",
    "        outfile.write(line)\n",
    "outfile.close()"
   ]
  }
 ],
 "metadata": {
  "kernelspec": {
   "display_name": "Python 3",
   "language": "python",
   "name": "python3"
  },
  "language_info": {
   "codemirror_mode": {
    "name": "ipython",
    "version": 3
   },
   "file_extension": ".py",
   "mimetype": "text/x-python",
   "name": "python",
   "nbconvert_exporter": "python",
   "pygments_lexer": "ipython3",
   "version": "3.7.1"
  }
 },
 "nbformat": 4,
 "nbformat_minor": 2
}
