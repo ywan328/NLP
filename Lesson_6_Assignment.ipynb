{
 "cells": [
  {
   "cell_type": "code",
   "execution_count": 7,
   "metadata": {},
   "outputs": [],
   "source": [
    "import sklearn\n",
    "import keras\n",
    "import numpy\n",
    "import tensorflow as tf"
   ]
  },
  {
   "cell_type": "markdown",
   "metadata": {},
   "source": [
    "## 1. Summarize the reasons of over-fitting and under-fitting"
   ]
  },
  {
   "cell_type": "markdown",
   "metadata": {},
   "source": [
    "### Overfitting\n",
    "\n",
    "#### Reason:\n",
    "#### 1. Model is too complicated.  2. few Data, need more data 3. unbalanced data\n",
    "\n",
    "#### Solution:\n",
    "#### 1. Reduce the complexity of model 2. Regularization(L1,L2,Dropout) 3. upsampling and subsampled to obtain balanced data\n",
    "#### 4. Put more data into dataset           5. reclean data and eliminate outliers   6. Early stopping\n",
    "#### 7. Cross-validation(k folds...)           8. prune                                                    9. Ensemble(bagging,boosting,stacking)\n",
    "\n",
    "### Underfitting\n",
    "\n",
    "#### Reason:\n",
    "#### 1. Trainning time is not enough 2. Model is too simple  3. used features are nor highly correlated with target\n",
    "\n",
    "#### Solution:\n",
    "#### 1. Use more complicated model  2. Use more time to train  3. Deregularization 4. Try to find more important features\n",
    "#### 5. Dropout\n",
    "\n",
    "\n"
   ]
  },
  {
   "cell_type": "markdown",
   "metadata": {},
   "source": [
    "## 2. Writing down three sceneries that machine learning has been used now"
   ]
  },
  {
   "cell_type": "markdown",
   "metadata": {},
   "source": [
    "#### 1. Anti-fraud in bank   2.  Recommend System  3. robotic customer service"
   ]
  },
  {
   "cell_type": "markdown",
   "metadata": {},
   "source": [
    "## 3. Come out with three new sceneries with which machine learning may be applied."
   ]
  },
  {
   "cell_type": "markdown",
   "metadata": {},
   "source": [
    "#### 1. Social Credit System 2. simultaneous interpretation; 3. Medicine by DIY\n"
   ]
  }
 ],
 "metadata": {
  "kernelspec": {
   "display_name": "Python 3",
   "language": "python",
   "name": "python3"
  },
  "language_info": {
   "codemirror_mode": {
    "name": "ipython",
    "version": 3
   },
   "file_extension": ".py",
   "mimetype": "text/x-python",
   "name": "python",
   "nbconvert_exporter": "python",
   "pygments_lexer": "ipython3",
   "version": "3.7.3"
  }
 },
 "nbformat": 4,
 "nbformat_minor": 2
}
